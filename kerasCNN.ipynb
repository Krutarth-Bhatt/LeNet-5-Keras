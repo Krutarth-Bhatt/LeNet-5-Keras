{
 "cells": [
  {
   "cell_type": "markdown",
   "metadata": {},
   "source": [
    "# Importing Packages::"
   ]
  },
  {
   "cell_type": "code",
   "execution_count": 25,
   "metadata": {},
   "outputs": [],
   "source": [
    "import keras\n",
    "from keras.models import Sequential\n",
    "from keras.layers import Dense, Conv2D, MaxPooling2D, AveragePooling2D, Flatten\n",
    "import pandas as pd\n",
    "import numpy as np\n",
    "import random"
   ]
  },
  {
   "cell_type": "markdown",
   "metadata": {},
   "source": [
    "# Importing Dataset::"
   ]
  },
  {
   "cell_type": "code",
   "execution_count": 30,
   "metadata": {},
   "outputs": [
    {
     "name": "stderr",
     "output_type": "stream",
     "text": [
      "/home/kuku/anaconda3/lib/python3.6/site-packages/ipykernel_launcher.py:2: FutureWarning: Method .as_matrix will be removed in a future version. Use .values instead.\n",
      "  \n"
     ]
    },
    {
     "name": "stdout",
     "output_type": "stream",
     "text": [
      "(39000, 32, 32, 1)\n",
      "(39000, 10)\n",
      "(3000, 32, 32, 1)\n",
      "(3000, 10)\n"
     ]
    }
   ],
   "source": [
    "#File loading\n",
    "d = pd.read_csv('/home/kuku/Documents/train.csv').as_matrix()\n",
    "\n",
    "random.shuffle(d)\n",
    "\n",
    "#Training data::\n",
    "x_train = d[:39000,1:]\n",
    "x_train = np.array(x_train)\n",
    "x_train = x_train.T\n",
    "x_train2 = []\n",
    "for i in range(39000):\n",
    "    x = x_train[:,i]\n",
    "    x = x.reshape(28,28)\n",
    "    x = np.pad(x, (2), 'edge')  #Padding images to make them (32,32) from (28,28)\n",
    "    x_train2.append(x)\n",
    "x_train2 = np.array(x_train2) \n",
    "x_train2 = x_train2.reshape(39000, 32, 32, 1)\n",
    "print(x_train2.shape)\n",
    "\n",
    "\n",
    "y_train = d[:39000,0]\n",
    "y_train = np.array(y_train)\n",
    "y_train = keras.utils.to_categorical(y_train, 10)\n",
    "print(y_train.shape)\n",
    "\n",
    "\n",
    "#Testing data::\n",
    "x_test = d[39000:,1:]\n",
    "x_test = np.array(x_test)\n",
    "x_test = x_test.T\n",
    "x_test2 = []\n",
    "for i in range(3000):\n",
    "    x = x_test[:,i]\n",
    "    x = x.reshape(28,28)\n",
    "    x = np.pad(x, 2, 'edge')\n",
    "    x_test2.append(x)\n",
    "x_test2 = np.array(x_test2)\n",
    "x_test2 = x_test2.reshape(3000, 32, 32, 1)\n",
    "print(x_test2.shape)\n",
    "\n",
    "y_test = d[39000:,0]\n",
    "y_test = np.array(y_test)\n",
    "y_test = keras.utils.to_categorical(y_test, 10)\n",
    "print(y_test.shape)\n"
   ]
  },
  {
   "cell_type": "markdown",
   "metadata": {},
   "source": [
    "# Building the Sequential model:: "
   ]
  },
  {
   "cell_type": "code",
   "execution_count": 38,
   "metadata": {},
   "outputs": [],
   "source": [
    "model = Sequential()\n",
    "\n",
    "model.add(Conv2D(6, (5,5), data_format='channels_last', activation = 'relu', input_shape=(32,32,1)))\n",
    "\n",
    "model.add(AveragePooling2D((2,2), 2))\n",
    "\n",
    "model.add(Conv2D(16, (5,5), data_format='channels_last', activation = 'relu'))\n",
    "\n",
    "model.add(AveragePooling2D((2,2), 2))\n",
    "\n",
    "model.add(Flatten())\n",
    "\n",
    "model.add(Dense(120, activation = 'relu'))\n",
    "\n",
    "model.add(Dense(84, activation = 'relu'))\n",
    "\n",
    "model.add(Dense(10, activation = 'softmax'))\n",
    "\n",
    "model.compile(optimizer='rmsprop', loss='categorical_crossentropy', metrics = ['accuracy'])"
   ]
  },
  {
   "cell_type": "markdown",
   "metadata": {},
   "source": [
    "# Training and Validation::"
   ]
  },
  {
   "cell_type": "code",
   "execution_count": 39,
   "metadata": {},
   "outputs": [
    {
     "name": "stdout",
     "output_type": "stream",
     "text": [
      "Train on 39000 samples, validate on 3000 samples\n",
      "Epoch 1/10\n",
      "39000/39000 [==============================] - 14s 351us/step - loss: 1.1896 - acc: 0.7421 - val_loss: 0.2326 - val_acc: 0.9260\n",
      "Epoch 2/10\n",
      "39000/39000 [==============================] - 13s 343us/step - loss: 0.2096 - acc: 0.9350 - val_loss: 0.1180 - val_acc: 0.9650\n",
      "Epoch 3/10\n",
      "39000/39000 [==============================] - 13s 345us/step - loss: 0.1146 - acc: 0.9653 - val_loss: 0.0958 - val_acc: 0.9707\n",
      "Epoch 4/10\n",
      "39000/39000 [==============================] - 13s 344us/step - loss: 0.0674 - acc: 0.9785 - val_loss: 0.0672 - val_acc: 0.9770\n",
      "Epoch 5/10\n",
      "39000/39000 [==============================] - 13s 345us/step - loss: 0.0504 - acc: 0.9843 - val_loss: 0.0596 - val_acc: 0.9787\n",
      "Epoch 6/10\n",
      "39000/39000 [==============================] - 13s 345us/step - loss: 0.0314 - acc: 0.9899 - val_loss: 0.0791 - val_acc: 0.9757\n",
      "Epoch 7/10\n",
      "39000/39000 [==============================] - 13s 345us/step - loss: 0.0344 - acc: 0.9901 - val_loss: 0.0395 - val_acc: 0.9880\n",
      "Epoch 8/10\n",
      "39000/39000 [==============================] - 14s 350us/step - loss: 0.0193 - acc: 0.9950 - val_loss: 0.0570 - val_acc: 0.9820\n",
      "Epoch 9/10\n",
      "39000/39000 [==============================] - 14s 353us/step - loss: 0.0164 - acc: 0.9950 - val_loss: 0.0367 - val_acc: 0.9887\n",
      "Epoch 10/10\n",
      "39000/39000 [==============================] - 14s 349us/step - loss: 0.0167 - acc: 0.9949 - val_loss: 0.0438 - val_acc: 0.9880\n"
     ]
    },
    {
     "data": {
      "text/plain": [
       "<keras.callbacks.History at 0x7f6d5f79ada0>"
      ]
     },
     "execution_count": 39,
     "metadata": {},
     "output_type": "execute_result"
    }
   ],
   "source": [
    "model.fit(x_train2, y_train, 1000, 10, validation_data = (x_test2, y_test))"
   ]
  }
 ],
 "metadata": {
  "kernelspec": {
   "display_name": "Python 3",
   "language": "python",
   "name": "python3"
  },
  "language_info": {
   "codemirror_mode": {
    "name": "ipython",
    "version": 3
   },
   "file_extension": ".py",
   "mimetype": "text/x-python",
   "name": "python",
   "nbconvert_exporter": "python",
   "pygments_lexer": "ipython3",
   "version": "3.6.5"
  }
 },
 "nbformat": 4,
 "nbformat_minor": 2
}
